{
 "cells": [
  {
   "cell_type": "markdown",
   "id": "7233f6a9",
   "metadata": {},
   "source": [
    "Realizando imports e download de stopwords"
   ]
  },
  {
   "cell_type": "code",
   "execution_count": null,
   "id": "7a76b5cd",
   "metadata": {},
   "outputs": [],
   "source": [
    "import ir_datasets\n",
    "import nltk\n",
    "\n",
    "import logging\n",
    "import sys\n",
    "import json\n",
    "\n",
    "from nltk.corpus import stopwords\n",
    "from nltk.tokenize import word_tokenize\n",
    "from nltk.stem import RSLPStemmer\n",
    "\n",
    "nltk.download('stopwords')"
   ]
  },
  {
   "cell_type": "code",
   "execution_count": null,
   "id": "d79182bb",
   "metadata": {},
   "outputs": [],
   "source": [
    "logging.basicConfig(level=logging.INFO, stream=sys.stdout,\n",
    "                    format='[%(asctime)s]%(levelname)s(%(name)s): %(message)s')\n",
    "LOGGER = logging.getLogger(__name__)"
   ]
  },
  {
   "cell_type": "markdown",
   "id": "d5084ffc",
   "metadata": {},
   "source": [
    "Inicializando todos os dicts"
   ]
  },
  {
   "cell_type": "code",
   "execution_count": null,
   "id": "82106936",
   "metadata": {},
   "outputs": [],
   "source": [
    "map_docs = {}\n",
    "map_queries = {}\n",
    "map_qrels = {}\n",
    "map_index = {}"
   ]
  },
  {
   "cell_type": "markdown",
   "id": "5ded7c60",
   "metadata": {},
   "source": [
    "Importando o dataset via ir_datasets"
   ]
  },
  {
   "cell_type": "code",
   "execution_count": null,
   "id": "5c7b32a2",
   "metadata": {},
   "outputs": [],
   "source": [
    "dataset = ir_datasets.load(\"cord19/trec-covid\")"
   ]
  },
  {
   "cell_type": "markdown",
   "id": "0ad13c2d",
   "metadata": {},
   "source": [
    "Processando map de consultas"
   ]
  },
  {
   "cell_type": "code",
   "execution_count": null,
   "id": "d566d347",
   "metadata": {},
   "outputs": [],
   "source": [
    "stop_words = set(stopwords.words('english'))\n",
    "\n",
    "for query in dataset.queries_iter(): \n",
    "    text = f'{query.title} {query.description}'\n",
    "    processed_text = word_tokenize(text.lower())\n",
    "    processed_text = ' '.join([word for word in processed_text if word.isalpha() and word not in stop_words])\n",
    "    LOGGER.info(f'Query ID: {query.query_id} \\nText: {processed_text}\\n')\n",
    "    map_queries[query.query_id] = processed_text\n"
   ]
  },
  {
   "cell_type": "code",
   "execution_count": null,
   "id": "798fbcd9",
   "metadata": {},
   "outputs": [],
   "source": [
    "map_queries"
   ]
  },
  {
   "cell_type": "markdown",
   "id": "a10546ed",
   "metadata": {},
   "source": [
    "Processando map com os documentos\n",
    " * Alterando indices para integer\n",
    " * Fazendo um map com os indices para converter lista de relevância depois"
   ]
  },
  {
   "cell_type": "code",
   "execution_count": null,
   "id": "97a399e1",
   "metadata": {},
   "outputs": [],
   "source": [
    "i = 1\n",
    "for doc in dataset.docs_iter():\n",
    "    text = f'{doc.title} {doc.abstract}'\n",
    "    processed_text = word_tokenize(text.lower())\n",
    "    processed_text = ' '.join([word for word in processed_text if word.isalpha() and word not in stop_words])\n",
    "    map_docs[i] = processed_text\n",
    "    map_index[doc.doc_id] = i\n",
    "    i += 1\n",
    "    "
   ]
  },
  {
   "cell_type": "code",
   "execution_count": null,
   "id": "e884b525",
   "metadata": {},
   "outputs": [],
   "source": [
    "map_docs"
   ]
  },
  {
   "cell_type": "code",
   "execution_count": null,
   "id": "6834dd75",
   "metadata": {},
   "outputs": [],
   "source": [
    "map_index"
   ]
  },
  {
   "cell_type": "markdown",
   "id": "ec9d65af",
   "metadata": {},
   "source": [
    "Processando map com os dados de relevância das consultas\n",
    "* Salvando, para cada consulta, ID da consulta, ID do doc e sua relevância "
   ]
  },
  {
   "cell_type": "code",
   "execution_count": null,
   "id": "40c2a197",
   "metadata": {},
   "outputs": [],
   "source": [
    "map_qrels = {}"
   ]
  },
  {
   "cell_type": "code",
   "execution_count": null,
   "id": "017eee4c",
   "metadata": {},
   "outputs": [],
   "source": [
    "for qrel in dataset.qrels_iter():\n",
    "    doc_index = map_index.get(qrel.doc_id, None)\n",
    "    if doc_index is not None:\n",
    "        map_qrels[qrel.query_id] = map_qrels.get(qrel.query_id, {})\n",
    "        doc_index = map_index[qrel.doc_id]\n",
    "        map_qrels[qrel.query_id][doc_index] = qrel.relevance"
   ]
  },
  {
   "cell_type": "code",
   "execution_count": null,
   "id": "f126e707",
   "metadata": {},
   "outputs": [],
   "source": [
    "# Salvar, para cada consulta, um array com os documentos cuja relevância é maior que 0\n",
    "for query_id, qrels in map_qrels.items():\n",
    "    map_qrels[query_id] = [doc_index for doc_index, relevance in qrels.items() if relevance == 2]"
   ]
  },
  {
   "cell_type": "code",
   "execution_count": null,
   "id": "bdb0f8ed",
   "metadata": {},
   "outputs": [],
   "source": [
    "map_qrels"
   ]
  },
  {
   "cell_type": "markdown",
   "id": "d24f2428",
   "metadata": {},
   "source": [
    "Salvando os maps em JSON para utilizar nos próximos notebooks"
   ]
  },
  {
   "cell_type": "code",
   "execution_count": null,
   "id": "cb646c98",
   "metadata": {},
   "outputs": [],
   "source": [
    "with open('map_qrels.json', 'w', encoding='utf-8') as out_file_opened:\n",
    "    json.dump(\n",
    "        map_qrels,          # Dados a serem salvos\n",
    "        out_file_opened,    # Objeto do arquivo\n",
    "        indent=2,           # Indentação para melhor legibilidade\n",
    "        ensure_ascii=False  # Permite caracteres não-ASCII\n",
    "    )"
   ]
  },
  {
   "cell_type": "code",
   "execution_count": null,
   "id": "90480d87",
   "metadata": {},
   "outputs": [],
   "source": [
    "with open('map_queries.json', 'w', encoding='utf-8') as out_file_opened:\n",
    "    json.dump(\n",
    "        map_queries,        # Dados a serem salvos\n",
    "        out_file_opened,    # Objeto do arquivo\n",
    "        indent=2,           # Indentação para melhor legibilidade\n",
    "        ensure_ascii=False  # Permite caracteres não-ASCII\n",
    "    )"
   ]
  },
  {
   "cell_type": "code",
   "execution_count": null,
   "id": "a9211130",
   "metadata": {},
   "outputs": [],
   "source": [
    "with open('map_docs.json', 'w', encoding='utf-8') as out_file_opened:\n",
    "    json.dump(\n",
    "        map_docs,           # Dados a serem salvos\n",
    "        out_file_opened,    # Objeto do arquivo\n",
    "        indent=2,           # Indentação para melhor legibilidade\n",
    "        ensure_ascii=False  # Permite caracteres não-ASCII\n",
    "    )"
   ]
  }
 ],
 "metadata": {
  "kernelspec": {
   "display_name": "projeto_ri",
   "language": "python",
   "name": "python3"
  },
  "language_info": {
   "codemirror_mode": {
    "name": "ipython",
    "version": 3
   },
   "file_extension": ".py",
   "mimetype": "text/x-python",
   "name": "python",
   "nbconvert_exporter": "python",
   "pygments_lexer": "ipython3",
   "version": "3.12.11"
  }
 },
 "nbformat": 4,
 "nbformat_minor": 5
}
