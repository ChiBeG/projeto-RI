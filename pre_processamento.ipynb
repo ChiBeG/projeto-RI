{
 "cells": [
  {
   "cell_type": "markdown",
   "id": "7233f6a9",
   "metadata": {},
   "source": [
    "Realizando imports e download de stopwords"
   ]
  },
  {
   "cell_type": "code",
   "execution_count": null,
   "id": "7a76b5cd",
   "metadata": {},
   "outputs": [],
   "source": [
    "import ir_datasets\n",
    "import nltk\n",
    "\n",
    "import logging\n",
    "import sys\n",
    "import json\n",
    "\n",
    "from nltk.corpus import stopwords\n",
    "from nltk.tokenize import word_tokenize\n",
    "from nltk.stem import RSLPStemmer\n",
    "\n",
    "nltk.download('stopwords')"
   ]
  },
  {
   "cell_type": "code",
   "execution_count": null,
   "id": "d79182bb",
   "metadata": {},
   "outputs": [],
   "source": [
    "logging.basicConfig(level=logging.INFO, stream=sys.stdout,\n",
    "                    format='[%(asctime)s]%(levelname)s(%(name)s): %(message)s')\n",
    "LOGGER = logging.getLogger(__name__)"
   ]
  },
  {
   "cell_type": "markdown",
   "id": "d5084ffc",
   "metadata": {},
   "source": [
    "Inicializando todos os dicts"
   ]
  },
  {
   "cell_type": "code",
   "execution_count": null,
   "id": "82106936",
   "metadata": {},
   "outputs": [],
   "source": [
    "map_docs = {}\n",
    "map_queries = {}\n",
    "map_qrels = {}"
   ]
  },
  {
   "cell_type": "markdown",
   "id": "5ded7c60",
   "metadata": {},
   "source": [
    "Importando o dataset via ir_datasets"
   ]
  },
  {
   "cell_type": "code",
   "execution_count": null,
   "id": "5c7b32a2",
   "metadata": {},
   "outputs": [],
   "source": [
    "dataset = ir_datasets.load(\"cord19/trec-covid\")"
   ]
  },
  {
   "cell_type": "markdown",
   "id": "0ad13c2d",
   "metadata": {},
   "source": [
    "Processando map de consultas"
   ]
  },
  {
   "cell_type": "code",
   "execution_count": null,
   "id": "d566d347",
   "metadata": {},
   "outputs": [],
   "source": [
    "stop_words = set(stopwords.words('english'))\n",
    "\n",
    "for query in dataset.queries_iter(): \n",
    "    text = f'{query.title} {query.description}'\n",
    "    processed_text = word_tokenize(text.lower())\n",
    "    processed_text = ' '.join([word for word in processed_text if word.isalpha() and word not in stop_words])\n",
    "    LOGGER.info(f'Query ID: {query.query_id} \\nText: {processed_text}\\n')\n",
    "    map_queries[query.query_id] = processed_text\n"
   ]
  },
  {
   "cell_type": "code",
   "execution_count": null,
   "id": "798fbcd9",
   "metadata": {},
   "outputs": [],
   "source": [
    "map_queries"
   ]
  },
  {
   "cell_type": "markdown",
   "id": "a10546ed",
   "metadata": {},
   "source": [
    "Processando map com os documentos"
   ]
  },
  {
   "cell_type": "code",
   "execution_count": null,
   "id": "97a399e1",
   "metadata": {},
   "outputs": [],
   "source": [
    "for doc in dataset.docs_iter():\n",
    "    text = f'{doc.title} {doc.abstract}'\n",
    "    processed_text = word_tokenize(text.lower())\n",
    "    processed_text = ' '.join([word for word in processed_text if word.isalpha() and word not in stop_words])\n",
    "    map_docs[doc.doc_id] = processed_text\n",
    "    "
   ]
  },
  {
   "cell_type": "code",
   "execution_count": null,
   "id": "e884b525",
   "metadata": {},
   "outputs": [],
   "source": [
    "map_docs"
   ]
  },
  {
   "cell_type": "markdown",
   "id": "ec9d65af",
   "metadata": {},
   "source": [
    "Processando map com os dados de relevância das consultas - A FAZER"
   ]
  },
  {
   "cell_type": "code",
   "execution_count": null,
   "id": "017eee4c",
   "metadata": {},
   "outputs": [],
   "source": [
    "for qrel in dataset.qrels_iter():\n",
    "    LOGGER.info(f'\\nQuery: {qrel.query_id} \\nDoc: {qrel.doc_id}\\nRel: {qrel.relevance}\\nIteration: {qrel.iteration}\\n')\n",
    "    text = f'{qrel.query_id} {qrel.doc_id} {qrel.relevance} {qrel.iteration}'\n",
    "    map_qrels[qrel.query_id] = text"
   ]
  },
  {
   "cell_type": "markdown",
   "id": "d24f2428",
   "metadata": {},
   "source": [
    "Salvando os maps em JSON para facilitar o reuso"
   ]
  },
  {
   "cell_type": "code",
   "execution_count": null,
   "id": "90480d87",
   "metadata": {},
   "outputs": [],
   "source": [
    "with open('map_queries.json', 'w', encoding='utf-8') as out_file_opened:\n",
    "    json.dump(\n",
    "        map_queries,        # Dados a serem salvos\n",
    "        out_file_opened,    # Objeto do arquivo\n",
    "        indent=2,           # Indentação para melhor legibilidade\n",
    "        ensure_ascii=False  # Permite caracteres não-ASCII\n",
    "    )"
   ]
  },
  {
   "cell_type": "code",
   "execution_count": null,
   "id": "a9211130",
   "metadata": {},
   "outputs": [],
   "source": [
    "with open('map_docs.json', 'w', encoding='utf-8') as out_file_opened:\n",
    "    json.dump(\n",
    "        map_docs,           # Dados a serem salvos\n",
    "        out_file_opened,    # Objeto do arquivo\n",
    "        indent=2,           # Indentação para melhor legibilidade\n",
    "        ensure_ascii=False  # Permite caracteres não-ASCII\n",
    "    )"
   ]
  }
 ],
 "metadata": {
  "kernelspec": {
   "display_name": "projeto_ri",
   "language": "python",
   "name": "python3"
  },
  "language_info": {
   "codemirror_mode": {
    "name": "ipython",
    "version": 3
   },
   "file_extension": ".py",
   "mimetype": "text/x-python",
   "name": "python",
   "nbconvert_exporter": "python",
   "pygments_lexer": "ipython3",
   "version": "3.12.11"
  }
 },
 "nbformat": 4,
 "nbformat_minor": 5
}
