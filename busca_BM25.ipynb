{
 "cells": [
  {
   "cell_type": "code",
   "execution_count": 4,
   "id": "a0f3f198",
   "metadata": {},
   "outputs": [],
   "source": [
    "from rank_bm25 import BM25Okapi\n",
    "import json"
   ]
  },
  {
   "cell_type": "markdown",
   "id": "b26facd0",
   "metadata": {},
   "source": [
    "Importando arquivos com o map"
   ]
  },
  {
   "cell_type": "code",
   "execution_count": 5,
   "id": "bddcb407",
   "metadata": {},
   "outputs": [],
   "source": [
    "try:\n",
    "   with open('map_docs.json', 'r', encoding='utf-8') as file:\n",
    "       map_docs = json.load(file)\n",
    "   with open('map_queries.json', 'r', encoding='utf-8') as file:\n",
    "       map_queries = json.load(file)\n",
    "except FileNotFoundError as e:\n",
    "    print(f\"Erro ao abrir o arquivo: {e}\")"
   ]
  },
  {
   "cell_type": "markdown",
   "id": "26671d9e",
   "metadata": {},
   "source": [
    "Criando modelo BM25"
   ]
  },
  {
   "cell_type": "code",
   "execution_count": null,
   "id": "1091e182",
   "metadata": {},
   "outputs": [],
   "source": [
    "bm25 = BM25Okapi()"
   ]
  },
  {
   "cell_type": "markdown",
   "id": "28786a52",
   "metadata": {},
   "source": [
    "Testes de consulta"
   ]
  },
  {
   "cell_type": "code",
   "execution_count": null,
   "id": "9060c372",
   "metadata": {},
   "outputs": [],
   "source": [
    "consulta = \"Who leads Brazil?\"\n",
    "scores = bm25.get_scores(consulta)"
   ]
  },
  {
   "cell_type": "code",
   "execution_count": null,
   "id": "7c246585",
   "metadata": {},
   "outputs": [],
   "source": [
    "for idx, score in sorted(enumerate(scores), key=lambda x: -x[1])[:3]:\n",
    "    print(f\"[{score:.2f}] {documentos[idx]}\")"
   ]
  }
 ],
 "metadata": {
  "kernelspec": {
   "display_name": "projeto_ri",
   "language": "python",
   "name": "python3"
  },
  "language_info": {
   "codemirror_mode": {
    "name": "ipython",
    "version": 3
   },
   "file_extension": ".py",
   "mimetype": "text/x-python",
   "name": "python",
   "nbconvert_exporter": "python",
   "pygments_lexer": "ipython3",
   "version": "3.12.11"
  }
 },
 "nbformat": 4,
 "nbformat_minor": 5
}
