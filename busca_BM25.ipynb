{
 "cells": [
  {
   "cell_type": "code",
   "execution_count": 11,
   "id": "a0f3f198",
   "metadata": {},
   "outputs": [],
   "source": [
    "from rank_bm25 import BM25Okapi\n",
    "import json\n",
    "from nltk.tokenize import word_tokenize\n",
    "import nltk"
   ]
  },
  {
   "cell_type": "markdown",
   "id": "b26facd0",
   "metadata": {},
   "source": [
    "Importando arquivos com o map"
   ]
  },
  {
   "cell_type": "code",
   "execution_count": null,
   "id": "bddcb407",
   "metadata": {},
   "outputs": [],
   "source": [
    "try:\n",
    "   with open('map_docs.json', 'r', encoding='utf-8') as file:\n",
    "       map_docs = json.load(file)\n",
    "   with open('map_queries.json', 'r', encoding='utf-8') as file:\n",
    "       map_queries = json.load(file)\n",
    "except FileNotFoundError as e:\n",
    "    print(f\"Erro ao abrir o arquivo: {e}\")"
   ]
  },
  {
   "cell_type": "code",
   "execution_count": null,
   "id": "14f9cdab",
   "metadata": {},
   "outputs": [],
   "source": [
    "map_docs"
   ]
  },
  {
   "cell_type": "code",
   "execution_count": null,
   "id": "62462f20",
   "metadata": {},
   "outputs": [],
   "source": [
    "map_queries"
   ]
  },
  {
   "cell_type": "markdown",
   "id": "26671d9e",
   "metadata": {},
   "source": [
    "Criando modelo BM25"
   ]
  },
  {
   "cell_type": "code",
   "execution_count": null,
   "id": "0ac097fd",
   "metadata": {},
   "outputs": [],
   "source": [
    "TOP_N = 100"
   ]
  },
  {
   "cell_type": "code",
   "execution_count": null,
   "id": "692bd575",
   "metadata": {},
   "outputs": [],
   "source": [
    "doc_ids = list(map_docs.keys())\n",
    "docs_tokenizados = [word_tokenize(map_docs[doc_id].lower()) for doc_id in doc_ids]"
   ]
  },
  {
   "cell_type": "code",
   "execution_count": null,
   "id": "1091e182",
   "metadata": {},
   "outputs": [],
   "source": [
    "bm25 = BM25Okapi(docs_tokenizados)"
   ]
  },
  {
   "cell_type": "code",
   "execution_count": null,
   "id": "72d7ccde",
   "metadata": {},
   "outputs": [],
   "source": [
    "map_results = {}"
   ]
  },
  {
   "cell_type": "code",
   "execution_count": null,
   "id": "777b7432",
   "metadata": {},
   "outputs": [],
   "source": [
    "for query_id, consulta in map_queries.items():\n",
    "    tokens_query = word_tokenize(consulta.lower())\n",
    "    scores = bm25.get_scores(tokens_query)\n",
    "\n",
    "    # Ordenar os índices dos documentos pela pontuação\n",
    "    doc_indices_ordenados = sorted(range(len(scores)), key=lambda i: scores[i], reverse=True)[:TOP_N]\n",
    "\n",
    "    # Recuperar os doc_ids ordenados por relevância\n",
    "    docs_recuperados = [doc_ids[i] for i in doc_indices_ordenados]\n",
    "\n",
    "    # Armazenar no mapa de resultados\n",
    "    map_results[query_id] = docs_recuperados"
   ]
  },
  {
   "cell_type": "code",
   "execution_count": null,
   "id": "f36c3344",
   "metadata": {},
   "outputs": [],
   "source": [
    "map_results"
   ]
  },
  {
   "cell_type": "code",
   "execution_count": null,
   "id": "57f64e6b",
   "metadata": {},
   "outputs": [],
   "source": [
    "# Salvar map_results em um arquivo JSON map_results_bm25.json\n",
    "with open('map_results_bm25.json', 'w', encoding='utf-8') as file:\n",
    "    json.dump(map_results, file, ensure_ascii=False, indent=4)"
   ]
  }
 ],
 "metadata": {
  "kernelspec": {
   "display_name": "projeto_ri",
   "language": "python",
   "name": "python3"
  },
  "language_info": {
   "codemirror_mode": {
    "name": "ipython",
    "version": 3
   },
   "file_extension": ".py",
   "mimetype": "text/x-python",
   "name": "python",
   "nbconvert_exporter": "python",
   "pygments_lexer": "ipython3",
   "version": "3.12.11"
  }
 },
 "nbformat": 4,
 "nbformat_minor": 5
}
