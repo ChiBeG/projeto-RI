{
 "cells": [
  {
   "cell_type": "markdown",
   "id": "4c79e74b",
   "metadata": {},
   "source": [
    "Realizando imports e download de stopwords"
   ]
  },
  {
   "cell_type": "code",
   "execution_count": null,
   "id": "a0f3f198",
   "metadata": {},
   "outputs": [],
   "source": [
    "from gensim import corpora\n",
    "from rank_bm25 import BM25Okapi\n",
    "from nltk.corpus import stopwords\n",
    "import string\n",
    "import nltk\n",
    "\n",
    "nltk.download('stopwords')"
   ]
  },
  {
   "cell_type": "markdown",
   "id": "b26facd0",
   "metadata": {},
   "source": [
    "Carregando corpus"
   ]
  },
  {
   "cell_type": "code",
   "execution_count": null,
   "id": "bddcb407",
   "metadata": {},
   "outputs": [],
   "source": []
  },
  {
   "cell_type": "markdown",
   "id": "19799d71",
   "metadata": {},
   "source": [
    "Pré-processamento"
   ]
  },
  {
   "cell_type": "code",
   "execution_count": null,
   "id": "e32a0232",
   "metadata": {},
   "outputs": [],
   "source": [
    "def preprocessar(texto):\n",
    "    tokens = texto.lower().translate(str.maketrans('', '', string.punctuation)).split()\n",
    "    return [t for t in tokens if t not in stopwords.words('english')]\n",
    "\n",
    "tokenized_docs = [preprocessar(doc) for doc in documentos]"
   ]
  },
  {
   "cell_type": "markdown",
   "id": "26671d9e",
   "metadata": {},
   "source": [
    "Criando modelo BM25"
   ]
  },
  {
   "cell_type": "code",
   "execution_count": null,
   "id": "1091e182",
   "metadata": {},
   "outputs": [],
   "source": [
    "bm25 = BM25Okapi(tokenized_docs)"
   ]
  },
  {
   "cell_type": "markdown",
   "id": "28786a52",
   "metadata": {},
   "source": [
    "Testes de consulta"
   ]
  },
  {
   "cell_type": "code",
   "execution_count": null,
   "id": "9060c372",
   "metadata": {},
   "outputs": [],
   "source": [
    "consulta = \"Who leads Brazil?\"\n",
    "consulta_tokens = preprocessar(consulta)\n",
    "scores = bm25.get_scores(consulta_tokens)"
   ]
  },
  {
   "cell_type": "code",
   "execution_count": null,
   "id": "7c246585",
   "metadata": {},
   "outputs": [],
   "source": [
    "for idx, score in sorted(enumerate(scores), key=lambda x: -x[1])[:3]:\n",
    "    print(f\"[{score:.2f}] {documentos[idx]}\")"
   ]
  },
  {
   "cell_type": "markdown",
   "id": "544324c3",
   "metadata": {},
   "source": [
    "Avaliação"
   ]
  },
  {
   "cell_type": "code",
   "execution_count": null,
   "id": "d0a392fb",
   "metadata": {},
   "outputs": [],
   "source": [
    "import numpy as np\n",
    "import matplotlib.pyplot as plt"
   ]
  },
  {
   "cell_type": "code",
   "execution_count": null,
   "id": "743ae14e",
   "metadata": {},
   "outputs": [],
   "source": [
    "def calcular_precision_recall_f1(ranking, relevantes):\n",
    "    precisions, recalls, f1s = [], [], []\n",
    "    retrieved_relevant = 0\n",
    "    total_relevant = len(relevantes)\n",
    "\n",
    "    for k, doc_id in enumerate(ranking, start=1):\n",
    "        if doc_id in relevantes:\n",
    "            retrieved_relevant += 1\n",
    "        precision = retrieved_relevant / k\n",
    "        recall = retrieved_relevant / total_relevant if total_relevant > 0 else 0\n",
    "        f1 = 2 * precision * recall / (precision + recall) if precision + recall > 0 else 0\n",
    "\n",
    "        precisions.append(precision)\n",
    "        recalls.append(recall)\n",
    "        f1s.append(f1)\n",
    "\n",
    "    return precisions, recalls, f1s\n",
    "\n",
    "def precision_11_points(precisions, recalls):\n",
    "    recall_levels = np.linspace(0, 1.0, 11)\n",
    "    precision_at_recall = []\n",
    "\n",
    "    for r in recall_levels:\n",
    "        precisions_at_r = [p for p, rc in zip(precisions, recalls) if rc >= r]\n",
    "        if precisions_at_r:\n",
    "            precision_at_recall.append(max(precisions_at_r))  # interpolated\n",
    "        else:\n",
    "            precision_at_recall.append(0.0)\n",
    "    \n",
    "    return recall_levels, precision_at_recall\n"
   ]
  },
  {
   "cell_type": "code",
   "execution_count": null,
   "id": "6d5a296e",
   "metadata": {},
   "outputs": [],
   "source": [
    "bm25_results = {}\n",
    "\n",
    "for query in consultas:\n",
    "    ranking = ranquear_bm25(query)\n",
    "    relevantes = ground_truth[query]\n",
    "    p, r, f1 = calcular_precision_recall_f1(ranking, relevantes)\n",
    "    bm25_results[query] = (p, r, f1)\n",
    "\n",
    "# Plotar curvas\n",
    "plt.figure(figsize=(8, 6))\n",
    "for i, query in enumerate(consultas):\n",
    "    precisions, recalls, _ = bm25_results[query]\n",
    "    recall_levels, prec_11 = precision_11_points(precisions, recalls)\n",
    "    plt.plot(recall_levels, prec_11, label=f\"BM25: Consulta {i+1}\")\n",
    "\n",
    "plt.xlabel(\"Recall\")\n",
    "plt.ylabel(\"Precision (Interpolado)\")\n",
    "plt.title(\"Curva Precision x Recall (BM25)\")\n",
    "plt.grid(True)\n",
    "plt.legend()\n",
    "plt.show()"
   ]
  }
 ],
 "metadata": {
  "kernelspec": {
   "display_name": "unirio_ri",
   "language": "python",
   "name": "python3"
  },
  "language_info": {
   "name": "python",
   "version": "3.12.10"
  }
 },
 "nbformat": 4,
 "nbformat_minor": 5
}
