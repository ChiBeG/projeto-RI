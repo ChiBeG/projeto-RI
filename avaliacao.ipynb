{
 "cells": [
  {
   "cell_type": "markdown",
   "id": "351af200",
   "metadata": {},
   "source": [
    "Realizando imports"
   ]
  },
  {
   "cell_type": "code",
   "execution_count": null,
   "id": "88ae4ce2",
   "metadata": {},
   "outputs": [],
   "source": [
    "import numpy as np\n",
    "import matplotlib.pyplot as plt"
   ]
  },
  {
   "cell_type": "markdown",
   "id": "af89aa25",
   "metadata": {},
   "source": [
    "Carregando arquivos com os resultados das consultas"
   ]
  },
  {
   "cell_type": "code",
   "execution_count": null,
   "id": "071f612b",
   "metadata": {},
   "outputs": [],
   "source": []
  },
  {
   "cell_type": "markdown",
   "id": "4d42a461",
   "metadata": {},
   "source": [
    "Declarando funções de avaliação"
   ]
  },
  {
   "cell_type": "code",
   "execution_count": null,
   "id": "d3b9b606",
   "metadata": {},
   "outputs": [],
   "source": [
    "def calcular_precision_recall_f1(ranking, relevantes):\n",
    "    precisions, recalls, f1s = [], [], []\n",
    "    retrieved_relevant = 0\n",
    "    total_relevant = len(relevantes)\n",
    "\n",
    "    for k, doc_id in enumerate(ranking, start=1):\n",
    "        if doc_id in relevantes:\n",
    "            retrieved_relevant += 1\n",
    "        precision = retrieved_relevant / k\n",
    "        recall = retrieved_relevant / total_relevant if total_relevant > 0 else 0\n",
    "        f1 = 2 * precision * recall / (precision + recall) if precision + recall > 0 else 0\n",
    "\n",
    "        precisions.append(precision)\n",
    "        recalls.append(recall)\n",
    "        f1s.append(f1)\n",
    "\n",
    "    return precisions, recalls, f1s\n",
    "\n",
    "def precision_11_points(precisions, recalls):\n",
    "    recall_levels = np.linspace(0, 1.0, 11)\n",
    "    precision_at_recall = []\n",
    "\n",
    "    for r in recall_levels:\n",
    "        precisions_at_r = [p for p, rc in zip(precisions, recalls) if rc >= r]\n",
    "        if precisions_at_r:\n",
    "            precision_at_recall.append(max(precisions_at_r))  # interpolated\n",
    "        else:\n",
    "            precision_at_recall.append(0.0)\n",
    "    \n",
    "    return recall_levels, precision_at_recall\n"
   ]
  },
  {
   "cell_type": "code",
   "execution_count": null,
   "id": "2dd7be2b",
   "metadata": {},
   "outputs": [],
   "source": [
    "bm25_results = {}\n",
    "\n",
    "for query in consultas:\n",
    "    ranking = ranquear_bm25(query)\n",
    "    relevantes = ground_truth[query]\n",
    "    p, r, f1 = calcular_precision_recall_f1(ranking, relevantes)\n",
    "    bm25_results[query] = (p, r, f1)\n",
    "\n",
    "# Plotar curvas\n",
    "plt.figure(figsize=(8, 6))\n",
    "for i, query in enumerate(consultas):\n",
    "    precisions, recalls, _ = bm25_results[query]\n",
    "    recall_levels, prec_11 = precision_11_points(precisions, recalls)\n",
    "    plt.plot(recall_levels, prec_11, label=f\"BM25: Consulta {i+1}\")\n",
    "\n",
    "plt.xlabel(\"Recall\")\n",
    "plt.ylabel(\"Precision (Interpolado)\")\n",
    "plt.title(\"Curva Precision x Recall (BM25)\")\n",
    "plt.grid(True)\n",
    "plt.legend()\n",
    "plt.show()"
   ]
  }
 ],
 "metadata": {
  "language_info": {
   "name": "python"
  }
 },
 "nbformat": 4,
 "nbformat_minor": 5
}
