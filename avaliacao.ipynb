{
 "cells": [
  {
   "cell_type": "markdown",
   "id": "351af200",
   "metadata": {},
   "source": [
    "Realizando imports"
   ]
  },
  {
   "cell_type": "code",
   "execution_count": null,
   "id": "88ae4ce2",
   "metadata": {},
   "outputs": [],
   "source": [
    "import numpy as np\n",
    "import matplotlib.pyplot as plt\n",
    "from sklearn.metrics import precision_score, recall_score, f1_score, precision_recall_curve\n",
    "import json"
   ]
  },
  {
   "cell_type": "markdown",
   "id": "af89aa25",
   "metadata": {},
   "source": [
    "Carregando arquivos com os resultados das consultas"
   ]
  },
  {
   "cell_type": "code",
   "execution_count": null,
   "id": "071f612b",
   "metadata": {},
   "outputs": [],
   "source": [
    "try:\n",
    "   with open('map_qrels.json', 'r', encoding='utf-8') as file:\n",
    "       map_qrels = json.load(file)\n",
    "   with open('map_results_mysql.json', 'r', encoding='utf-8') as file:\n",
    "       map_results_mysql = json.load(file)\n",
    "   with open('map_results_bm25.json', 'r', encoding='utf-8') as file:\n",
    "       map_results_bm25 = json.load(file)\n",
    "   with open('map_results_tfidf.json', 'r', encoding='utf-8') as file:\n",
    "       map_results_tfidf = json.load(file)\n",
    "except FileNotFoundError as e:\n",
    "    print(f\"Erro ao abrir o arquivo: {e}\")"
   ]
  },
  {
   "cell_type": "code",
   "execution_count": null,
   "id": "260b166e",
   "metadata": {},
   "outputs": [],
   "source": [
    "map_qrels"
   ]
  },
  {
   "cell_type": "code",
   "execution_count": null,
   "id": "7921b643",
   "metadata": {},
   "outputs": [],
   "source": [
    "map_results_mysql"
   ]
  },
  {
   "cell_type": "code",
   "execution_count": null,
   "id": "420c9cde",
   "metadata": {},
   "outputs": [],
   "source": [
    "map_results_bm25"
   ]
  },
  {
   "cell_type": "code",
   "execution_count": null,
   "id": "eb07eeba",
   "metadata": {},
   "outputs": [],
   "source": [
    "map_results_tfidf"
   ]
  },
  {
   "cell_type": "markdown",
   "id": "4d42a461",
   "metadata": {},
   "source": [
    "Declarando funções de avaliação"
   ]
  },
  {
   "cell_type": "code",
   "execution_count": null,
   "id": "c3973f04",
   "metadata": {},
   "outputs": [],
   "source": [
    "def preparar_relevancias(qrels_dict):\n",
    "    \"\"\"Transforma o dicionário de qrels em um dicionário de sets para busca rápida.\"\"\"\n",
    "    return {str(query_id): set(map(str, docs)) for query_id, docs in qrels_dict.items()}"
   ]
  },
  {
   "cell_type": "code",
   "execution_count": null,
   "id": "4ae3257b",
   "metadata": {},
   "outputs": [],
   "source": [
    "def compute_metrics(retrieved, relevant):\n",
    "    retrieved_set = set(retrieved)\n",
    "    relevant_set = set(relevant)\n",
    "    tp = len(retrieved_set & relevant_set)\n",
    "    precision = tp / len(retrieved) if retrieved else 0.0\n",
    "    recall = tp / len(relevant) if relevant else 0.0\n",
    "    f1 = (2 * precision * recall / (precision + recall)) if (precision + recall) > 0 else 0.0\n",
    "    return precision, recall, f1"
   ]
  },
  {
   "cell_type": "code",
   "execution_count": null,
   "id": "8303f30f",
   "metadata": {},
   "outputs": [],
   "source": [
    "def calcular_metricas_macro(resultados_dict, relevancias_dict, limite_top_k=100):\n",
    "    precisions, recalls, f1s = [], [], []\n",
    "    y_true_all, y_score_all = [], []\n",
    "    for query_id, retrieved in resultados_dict.items():\n",
    "        relevant = relevancias_dict.get(str(query_id), set())\n",
    "        retrieved = list(map(str, retrieved[:limite_top_k]))\n",
    "        precision, recall, f1 = compute_metrics(retrieved, relevant)\n",
    "        precisions.append(precision)\n",
    "        recalls.append(recall)\n",
    "        f1s.append(f1)\n",
    "        # Para curva PR: score decrescente conforme ranking\n",
    "        y_true = [1 if doc in relevant else 0 for doc in retrieved]\n",
    "        y_score = np.linspace(1, 0, len(retrieved), endpoint=False) if retrieved else []\n",
    "        y_true_all.extend(y_true)\n",
    "        y_score_all.extend(y_score)\n",
    "    media_p = np.mean(precisions) if precisions else 0.0\n",
    "    media_r = np.mean(recalls) if recalls else 0.0\n",
    "    media_f1 = np.mean(f1s) if f1s else 0.0\n",
    "    return media_p, media_r, media_f1, y_true_all, y_score_all\n"
   ]
  },
  {
   "cell_type": "code",
   "execution_count": null,
   "id": "6c96b6d2",
   "metadata": {},
   "outputs": [],
   "source": [
    "def calcular_curva_pr_11_pontos(y_true, y_scores):\n",
    "    precs, recalls, _ = precision_recall_curve(y_true, y_scores)\n",
    "    niveis_recall = np.linspace(0.05, 1.0, 11)\n",
    "    precisao_interpolada = []\n",
    "    for nivel in niveis_recall:\n",
    "        precisoes = [p for p, r in zip(precs, recalls) if r >= nivel]\n",
    "        precisao_interpolada.append(max(precisoes) if precisoes else 0.0)\n",
    "    return niveis_recall, precisao_interpolada\n"
   ]
  },
  {
   "cell_type": "code",
   "execution_count": null,
   "id": "492a245c",
   "metadata": {},
   "outputs": [],
   "source": [
    "relevancias = preparar_relevancias(map_qrels)\n"
   ]
  },
  {
   "cell_type": "code",
   "execution_count": null,
   "id": "5fa5e3a7",
   "metadata": {},
   "outputs": [],
   "source": [
    "relevancias"
   ]
  },
  {
   "cell_type": "code",
   "execution_count": null,
   "id": "1c4d3ea1",
   "metadata": {},
   "outputs": [],
   "source": [
    "# Converter valores do map_results_bm25 para integer\n",
    "map_results_bm25 = {k: [int(doc) for doc in v] for k, v in map_results_bm25.items()}\n",
    "map_results_tfidf = {k: [int(doc) for doc in v] for k, v in map_results_tfidf.items()}"
   ]
  },
  {
   "cell_type": "code",
   "execution_count": null,
   "id": "6b73cc31",
   "metadata": {},
   "outputs": [],
   "source": [
    "resultados_modelos = {\n",
    "    \"BM25\": map_results_bm25,\n",
    "    \"MySQL\": map_results_mysql,\n",
    "    \"TF-IDF\": map_results_tfidf\n",
    "}\n",
    "\n",
    "metricas_modelos = {}\n",
    "curvas_modelos = {}"
   ]
  },
  {
   "cell_type": "code",
   "execution_count": null,
   "id": "b201b131",
   "metadata": {},
   "outputs": [],
   "source": [
    "resultados_modelos"
   ]
  },
  {
   "cell_type": "code",
   "execution_count": null,
   "id": "f52f362c",
   "metadata": {},
   "outputs": [],
   "source": [
    "for nome, resultados in resultados_modelos.items():\n",
    "    media_p, media_r, media_f1, y_true_all, y_scores = calcular_metricas_macro(resultados, relevancias)\n",
    "    metricas_modelos[nome] = (media_p, media_r, media_f1)\n",
    "    curvas_modelos[nome] = calcular_curva_pr_11_pontos(y_true_all, y_scores)\n",
    "\n"
   ]
  },
  {
   "cell_type": "code",
   "execution_count": null,
   "id": "cb8cb11d",
   "metadata": {},
   "outputs": [],
   "source": [
    "# Imprimir resultados das metricas\n",
    "for nome, (precisao, recall, f1) in metricas_modelos.items():\n",
    "    print(f\"{nome} - Precisão: {precisao:.4f}, Recall: {recall:.4f}, F1: {f1:.4f}\")"
   ]
  },
  {
   "cell_type": "code",
   "execution_count": null,
   "id": "b757a4f7",
   "metadata": {},
   "outputs": [],
   "source": [
    "plt.figure(figsize=(7, 4))\n",
    "for nome, (recall_pts, precisao_interp) in curvas_modelos.items():\n",
    "    plt.plot(recall_pts, precisao_interp, marker='o', label=nome)\n",
    "plt.xlabel('Recall')\n",
    "plt.ylabel('Precision')\n",
    "plt.title('Precision em 11 pontos de Recall')\n",
    "plt.ylim(0, 1)\n",
    "plt.xlim(0, 1)\n",
    "plt.grid(True, linestyle='--', alpha=0.7)\n",
    "plt.legend()\n",
    "plt.tight_layout()\n",
    "plt.show()\n",
    "\n",
    "plt.figure(figsize=(7, 4))\n",
    "for nome, (recall_pts, _) in curvas_modelos.items():\n",
    "    plt.plot(recall_pts, recall_pts, marker='o', label=nome)\n",
    "plt.xlabel('Recall')\n",
    "plt.ylabel('Recall')\n",
    "plt.title('Recall em 11 pontos')\n",
    "plt.ylim(0, 1)\n",
    "plt.xlim(0, 1)\n",
    "plt.grid(True, linestyle='--', alpha=0.7)\n",
    "plt.legend()\n",
    "plt.tight_layout()\n",
    "plt.show()\n",
    "\n",
    "plt.figure(figsize=(7, 4))\n",
    "for nome, (recall_pts, precisao_interp) in curvas_modelos.items():\n",
    "    f1_interp = [2*p*r/(p+r) if (p+r)>0 else 0 for p, r in zip(precisao_interp, recall_pts)]\n",
    "    plt.plot(recall_pts, f1_interp, marker='o', label=nome)\n",
    "plt.xlabel('Recall')\n",
    "plt.ylabel('F1 Score')\n",
    "plt.title('F1 Score em 11 pontos de Recall')\n",
    "plt.ylim(0, 1)\n",
    "plt.xlim(0, 1)\n",
    "plt.grid(True, linestyle='--', alpha=0.7)\n",
    "plt.legend()\n",
    "plt.tight_layout()\n",
    "plt.show()\n"
   ]
  }
 ],
 "metadata": {
  "kernelspec": {
   "display_name": "projeto_ri",
   "language": "python",
   "name": "python3"
  },
  "language_info": {
   "codemirror_mode": {
    "name": "ipython",
    "version": 3
   },
   "file_extension": ".py",
   "mimetype": "text/x-python",
   "name": "python",
   "nbconvert_exporter": "python",
   "pygments_lexer": "ipython3",
   "version": "3.12.11"
  }
 },
 "nbformat": 4,
 "nbformat_minor": 5
}
