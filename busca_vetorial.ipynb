{
 "cells": [
  {
   "cell_type": "code",
   "execution_count": null,
   "id": "a0f3f198",
   "metadata": {},
   "outputs": [],
   "source": [
    "from gensim import corpora, models, similarities\n",
    "import json\n",
    "from nltk.tokenize import word_tokenize\n",
    "from gensim.similarities import MatrixSimilarity"
   ]
  },
  {
   "cell_type": "markdown",
   "id": "b26facd0",
   "metadata": {},
   "source": [
    "Importando arquivos com o map"
   ]
  },
  {
   "cell_type": "code",
   "execution_count": null,
   "id": "bddcb407",
   "metadata": {},
   "outputs": [],
   "source": [
    "try:\n",
    "   with open('map_docs.json', 'r', encoding='utf-8') as file:\n",
    "       map_docs = json.load(file)\n",
    "   with open('map_queries.json', 'r', encoding='utf-8') as file:\n",
    "       map_queries = json.load(file)\n",
    "except FileNotFoundError as e:\n",
    "    print(f\"Erro ao abrir o arquivo: {e}\")"
   ]
  },
  {
   "cell_type": "markdown",
   "id": "26671d9e",
   "metadata": {},
   "source": [
    "Criando modelo TF-IDF"
   ]
  },
  {
   "cell_type": "code",
   "execution_count": null,
   "id": "69f41d0d",
   "metadata": {},
   "outputs": [],
   "source": [
    "# Listas paralelas para manter mapeamento entre índice e doc_id\n",
    "doc_ids = []\n",
    "texts = []\n",
    "\n",
    "for doc_id, texto in map_docs.items():\n",
    "    tokens = word_tokenize(texto.lower())\n",
    "    texts.append(tokens)\n",
    "    doc_ids.append(doc_id)  # manter a ordem original"
   ]
  },
  {
   "cell_type": "code",
   "execution_count": null,
   "id": "f00738e5",
   "metadata": {},
   "outputs": [],
   "source": [
    "dictionary = corpora.Dictionary(texts)\n",
    "bow_corpus = [dictionary.doc2bow(text) for text in texts]"
   ]
  },
  {
   "cell_type": "code",
   "execution_count": null,
   "id": "67d75f4d",
   "metadata": {},
   "outputs": [],
   "source": [
    "tfidf_model = models.TfidfModel(bow_corpus)"
   ]
  },
  {
   "cell_type": "code",
   "execution_count": null,
   "id": "ed9d0e90",
   "metadata": {},
   "outputs": [],
   "source": [
    "from gensim.similarities import Similarity\n",
    "\n",
    "# Crie o índice de similaridade eficiente para grandes corpora\n",
    "index = Similarity(output_prefix='tfidf_index', corpus=tfidf_model[bow_corpus], num_features=len(dictionary))"
   ]
  },
  {
   "cell_type": "code",
   "execution_count": null,
   "id": "1091e182",
   "metadata": {},
   "outputs": [],
   "source": [
    "def buscar_tfidf(query, top_n=100):\n",
    "    query_tokens = word_tokenize(query.lower())\n",
    "    query_bow = dictionary.doc2bow(query_tokens)\n",
    "    query_tfidf = tfidf_model[query_bow]\n",
    "    sims = index[query_tfidf]\n",
    "    ranked_indices = sims.argsort()[::-1][:top_n]\n",
    "    # Retorna apenas os doc_ids, sem score\n",
    "    return [doc_ids[i] for i in ranked_indices]"
   ]
  },
  {
   "cell_type": "markdown",
   "id": "544324c3",
   "metadata": {},
   "source": [
    "Consultas"
   ]
  },
  {
   "cell_type": "code",
   "execution_count": null,
   "id": "d24a1487",
   "metadata": {},
   "outputs": [],
   "source": [
    "# Para todas as consultas em map_queries, obter os documentos e armazenar os resultados em map_results (apenas o doc id, sem score)\n",
    "map_results = {}\n",
    "for query_id, query_text in map_queries.items():\n",
    "    resultados = buscar_tfidf(query_text)\n",
    "    map_results[query_id] = resultados"
   ]
  },
  {
   "cell_type": "code",
   "execution_count": null,
   "id": "bccf258f",
   "metadata": {},
   "outputs": [],
   "source": [
    "map_results"
   ]
  },
  {
   "cell_type": "code",
   "execution_count": null,
   "id": "715362b2",
   "metadata": {},
   "outputs": [],
   "source": [
    "# Salvar map_results em um arquivo JSON map_results_mysql.json\n",
    "with open('map_results_tfidf.json', 'w', encoding='utf-8') as file:\n",
    "    json.dump(map_results, file, ensure_ascii=False, indent=4)"
   ]
  }
 ],
 "metadata": {
  "kernelspec": {
   "display_name": "unirio_ri",
   "language": "python",
   "name": "python3"
  },
  "language_info": {
   "codemirror_mode": {
    "name": "ipython",
    "version": 3
   },
   "file_extension": ".py",
   "mimetype": "text/x-python",
   "name": "python",
   "nbconvert_exporter": "python",
   "pygments_lexer": "ipython3",
   "version": "3.12.10"
  }
 },
 "nbformat": 4,
 "nbformat_minor": 5
}
