{
 "cells": [
  {
   "cell_type": "code",
   "execution_count": 3,
   "id": "a0f3f198",
   "metadata": {},
   "outputs": [],
   "source": [
    "from gensim import corpora, models, similarities\n",
    "import json"
   ]
  },
  {
   "cell_type": "markdown",
   "id": "b26facd0",
   "metadata": {},
   "source": [
    "Importando arquivos com o map"
   ]
  },
  {
   "cell_type": "code",
   "execution_count": 4,
   "id": "bddcb407",
   "metadata": {},
   "outputs": [],
   "source": [
    "try:\n",
    "   with open('map_docs.json', 'r', encoding='utf-8') as file:\n",
    "       map_docs = json.load(file)\n",
    "   with open('map_queries.json', 'r', encoding='utf-8') as file:\n",
    "       map_queries = json.load(file)\n",
    "except FileNotFoundError as e:\n",
    "    print(f\"Erro ao abrir o arquivo: {e}\")"
   ]
  },
  {
   "cell_type": "markdown",
   "id": "26671d9e",
   "metadata": {},
   "source": [
    "Criando modelo TF-IDF"
   ]
  },
  {
   "cell_type": "code",
   "execution_count": 5,
   "id": "1091e182",
   "metadata": {},
   "outputs": [],
   "source": [
    "def construir_modelo_tfidf(map_docs):\n",
    "\n",
    "    # Cria um dicionário a partir dos documentos\n",
    "    dictionary = corpora.Dictionary(map_docs.values())\n",
    "    \n",
    "    # Cria o corpus\n",
    "    corpus = [dictionary.doc2bow(doc) for doc in map_docs.values()]\n",
    "    \n",
    "    # Cria o modelo TF-IDF\n",
    "    tfidf_model = models.TfidfModel(corpus)\n",
    "    \n",
    "    return tfidf_model, dictionary, corpus"
   ]
  },
  {
   "cell_type": "markdown",
   "id": "28786a52",
   "metadata": {},
   "source": [
    "Função da consulta"
   ]
  },
  {
   "cell_type": "code",
   "execution_count": null,
   "id": "9060c372",
   "metadata": {},
   "outputs": [],
   "source": [
    "def responder_consulta(consulta, dicionario, modelo_tfidf, index, perguntas, categorias, top_k=5):\n",
    "    consulta_tokens = preprocessar(consulta)\n",
    "    consulta_bow = dicionario.doc2bow(consulta_tokens)\n",
    "    consulta_tfidf = modelo_tfidf[consulta_bow]\n",
    "    \n",
    "    sims = index[consulta_tfidf]\n",
    "    sims = list(enumerate(sims))\n",
    "    sims = sorted(sims, key=lambda x: -x[1])\n",
    "\n",
    "    print(f\"\\nConsulta: {consulta}\\n\")\n",
    "    print(\"Top resultados:\")\n",
    "    for idx, score in sims[:top_k]:\n",
    "        print(f\"[{score:.2f}] {perguntas[idx]} (Classe: {categorias[idx]})\")"
   ]
  },
  {
   "cell_type": "markdown",
   "id": "544324c3",
   "metadata": {},
   "source": [
    "Testes de consulta"
   ]
  },
  {
   "cell_type": "code",
   "execution_count": null,
   "id": "d24a1487",
   "metadata": {},
   "outputs": [],
   "source": [
    "responder_consulta(\"Who leads Brazil?\", dicionario, modelo_tfidf, index, perguntas, categorias)"
   ]
  }
 ],
 "metadata": {
  "kernelspec": {
   "display_name": "unirio_ri",
   "language": "python",
   "name": "python3"
  },
  "language_info": {
   "codemirror_mode": {
    "name": "ipython",
    "version": 3
   },
   "file_extension": ".py",
   "mimetype": "text/x-python",
   "name": "python",
   "nbconvert_exporter": "python",
   "pygments_lexer": "ipython3",
   "version": "3.12.10"
  }
 },
 "nbformat": 4,
 "nbformat_minor": 5
}
