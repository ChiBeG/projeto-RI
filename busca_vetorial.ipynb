{
 "cells": [
  {
   "cell_type": "code",
   "execution_count": null,
   "id": "a0f3f198",
   "metadata": {},
   "outputs": [],
   "source": [
    "from gensim import corpora, models, similarities\n",
    "import json\n",
    "from nltk.tokenize import word_tokenize\n",
    "from gensim.similarities import MatrixSimilarity"
   ]
  },
  {
   "cell_type": "markdown",
   "id": "b26facd0",
   "metadata": {},
   "source": [
    "Importando arquivos com o map"
   ]
  },
  {
   "cell_type": "code",
   "execution_count": null,
   "id": "bddcb407",
   "metadata": {},
   "outputs": [],
   "source": [
    "try:\n",
    "   with open('map_docs.json', 'r', encoding='utf-8') as file:\n",
    "       map_docs = json.load(file)\n",
    "   with open('map_queries.json', 'r', encoding='utf-8') as file:\n",
    "       map_queries = json.load(file)\n",
    "except FileNotFoundError as e:\n",
    "    print(f\"Erro ao abrir o arquivo: {e}\")"
   ]
  },
  {
   "cell_type": "markdown",
   "id": "26671d9e",
   "metadata": {},
   "source": [
    "Criando modelo TF-IDF"
   ]
  },
  {
   "cell_type": "code",
   "execution_count": null,
   "id": "69f41d0d",
   "metadata": {},
   "outputs": [],
   "source": [
    "# Listas paralelas para manter mapeamento entre índice e doc_id\n",
    "doc_ids = []\n",
    "texts = []\n",
    "\n",
    "for doc_id, texto in map_docs.items():\n",
    "    tokens = word_tokenize(texto.lower())\n",
    "    texts.append(tokens)\n",
    "    doc_ids.append(doc_id)  # manter a ordem original"
   ]
  },
  {
   "cell_type": "code",
   "execution_count": null,
   "id": "f00738e5",
   "metadata": {},
   "outputs": [],
   "source": [
    "dictionary = corpora.Dictionary(texts)\n",
    "bow_corpus = [dictionary.doc2bow(text) for text in texts]"
   ]
  },
  {
   "cell_type": "code",
   "execution_count": null,
   "id": "67d75f4d",
   "metadata": {},
   "outputs": [],
   "source": [
    "tfidf_model = models.TfidfModel(bow_corpus)"
   ]
  },
  {
   "cell_type": "code",
   "execution_count": null,
   "id": "1091e182",
   "metadata": {},
   "outputs": [],
   "source": [
    "def buscar_tfidf(query, top_n=10):\n",
    "    query_tokens = word_tokenize(query.lower())\n",
    "    query_bow = dictionary.doc2bow(query_tokens)\n",
    "    query_tfidf = tfidf_model[query_bow]\n",
    "    sims = index[query_tfidf]\n",
    "    ranked_indices = sims.argsort()[::-1][:top_n]\n",
    "    return [(doc_ids[i], sims[i]) for i in ranked_indices]"
   ]
  },
  {
   "cell_type": "code",
   "execution_count": null,
   "id": "ed9d0e90",
   "metadata": {},
   "outputs": [],
   "source": [
    "query = \"lung disease nitric oxide\"\n",
    "resultados = buscar_tfidf(query)\n",
    "\n",
    "for doc_id, score in resultados:\n",
    "    print(f\"DocID: {doc_id} | Score: {score:.4f}\")"
   ]
  },
  {
   "cell_type": "markdown",
   "id": "b9265ff7",
   "metadata": {},
   "source": [
    "Função da consulta"
   ]
  },
  {
   "cell_type": "code",
   "execution_count": null,
   "id": "9060c372",
   "metadata": {},
   "outputs": [],
   "source": [
    "def responder_consulta(consulta, dicionario, modelo_tfidf, index, perguntas, categorias, top_k=5):\n",
    "    consulta_tokens = preprocessar(consulta)\n",
    "    consulta_bow = dicionario.doc2bow(consulta_tokens)\n",
    "    consulta_tfidf = modelo_tfidf[consulta_bow]\n",
    "    \n",
    "    sims = index[consulta_tfidf]\n",
    "    sims = list(enumerate(sims))\n",
    "    sims = sorted(sims, key=lambda x: -x[1])\n",
    "\n",
    "    print(f\"\\nConsulta: {consulta}\\n\")\n",
    "    print(\"Top resultados:\")\n",
    "    for idx, score in sims[:top_k]:\n",
    "        print(f\"[{score:.2f}] {perguntas[idx]} (Classe: {categorias[idx]})\")"
   ]
  },
  {
   "cell_type": "markdown",
   "id": "544324c3",
   "metadata": {},
   "source": [
    "Testes de consulta"
   ]
  },
  {
   "cell_type": "code",
   "execution_count": null,
   "id": "d24a1487",
   "metadata": {},
   "outputs": [],
   "source": [
    "responder_consulta(\"Who leads Brazil?\", dicionario, modelo_tfidf, index, perguntas, categorias)"
   ]
  }
 ],
 "metadata": {
  "kernelspec": {
   "display_name": "unirio_ri",
   "language": "python",
   "name": "python3"
  },
  "language_info": {
   "codemirror_mode": {
    "name": "ipython",
    "version": 3
   },
   "file_extension": ".py",
   "mimetype": "text/x-python",
   "name": "python",
   "nbconvert_exporter": "python",
   "pygments_lexer": "ipython3",
   "version": "3.12.10"
  }
 },
 "nbformat": 4,
 "nbformat_minor": 5
}
