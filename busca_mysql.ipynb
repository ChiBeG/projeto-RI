{
 "cells": [
  {
   "cell_type": "markdown",
   "id": "73e4ffb0",
   "metadata": {},
   "source": [
    "Realizando imports"
   ]
  },
  {
   "cell_type": "code",
   "execution_count": null,
   "id": "2da71efa",
   "metadata": {},
   "outputs": [],
   "source": [
    "import pymysql\n",
    "import json"
   ]
  },
  {
   "cell_type": "markdown",
   "id": "ae984256",
   "metadata": {},
   "source": [
    "Conectando à base MySQL"
   ]
  },
  {
   "cell_type": "code",
   "execution_count": null,
   "id": "778d6997",
   "metadata": {},
   "outputs": [],
   "source": [
    "conn = pymysql.connect(\n",
    "    host=\"localhost\",\n",
    "    user=\"ri_user\",\n",
    "    password=\"ri123\",\n",
    "    database=\"ri_documentos\"\n",
    ")\n",
    "cursor = conn.cursor()\n"
   ]
  },
  {
   "cell_type": "markdown",
   "id": "12a4a951",
   "metadata": {},
   "source": [
    "Importando arquivos com o map"
   ]
  },
  {
   "cell_type": "code",
   "execution_count": null,
   "id": "645bd555",
   "metadata": {},
   "outputs": [],
   "source": [
    "try:\n",
    "   with open('map_docs.json', 'r', encoding='utf-8') as file:\n",
    "       map_docs = json.load(file)\n",
    "   with open('map_queries.json', 'r', encoding='utf-8') as file:\n",
    "       map_queries = json.load(file)\n",
    "except FileNotFoundError as e:\n",
    "    print(f\"Erro ao abrir o arquivo: {e}\")"
   ]
  },
  {
   "cell_type": "code",
   "execution_count": null,
   "id": "f2217278",
   "metadata": {},
   "outputs": [],
   "source": [
    "map_docs"
   ]
  },
  {
   "cell_type": "markdown",
   "id": "99fa7e63",
   "metadata": {},
   "source": [
    "Criando tabela para os documentos"
   ]
  },
  {
   "cell_type": "code",
   "execution_count": null,
   "id": "d36d2851",
   "metadata": {},
   "outputs": [],
   "source": [
    "cursor.execute(\"DROP TABLE IF EXISTS documentos;\")\n",
    "cursor.execute(\"\"\"\n",
    "CREATE TABLE documentos (\n",
    "    doc_id VARCHAR(10),\n",
    "    texto LONGTEXT,\n",
    "    FULLTEXT(texto)\n",
    ") ENGINE=MyISAM;\n",
    "\"\"\")"
   ]
  },
  {
   "cell_type": "markdown",
   "id": "4a744213",
   "metadata": {},
   "source": [
    "Limpar tabela"
   ]
  },
  {
   "cell_type": "code",
   "execution_count": null,
   "id": "1e142ceb",
   "metadata": {},
   "outputs": [],
   "source": [
    "cursor.execute(\"TRUNCATE TABLE documentos;\")"
   ]
  },
  {
   "cell_type": "markdown",
   "id": "2d4f57df",
   "metadata": {},
   "source": [
    "Verificar tabela"
   ]
  },
  {
   "cell_type": "code",
   "execution_count": null,
   "id": "d87b344c",
   "metadata": {},
   "outputs": [],
   "source": [
    "\n",
    "cursor.execute(\"SHOW TABLES;\")\n",
    "\n",
    "tabelas = cursor.fetchall()\n",
    "\n",
    "print(\"Tabelas no banco:\")\n",
    "for tabela in tabelas:\n",
    "    print(tabela[0])  "
   ]
  },
  {
   "cell_type": "code",
   "execution_count": null,
   "id": "058705fc",
   "metadata": {},
   "outputs": [],
   "source": [
    "# Select na tabela de documentos\n",
    "cursor.execute(\"SELECT * FROM documentos LIMIT 10;\")\n",
    "result = cursor.fetchall()\n",
    "for row in result:\n",
    "    print(row)"
   ]
  },
  {
   "cell_type": "markdown",
   "id": "e41a8286",
   "metadata": {},
   "source": [
    "Inserindo documentos na base"
   ]
  },
  {
   "cell_type": "code",
   "execution_count": null,
   "id": "30a78d0b",
   "metadata": {},
   "outputs": [],
   "source": [
    "for doc_id, texto in map_docs.items():\n",
    "    cursor.execute(\"INSERT INTO documentos (doc_id, texto) VALUES (%s, %s);\", (doc_id, texto))"
   ]
  },
  {
   "cell_type": "markdown",
   "id": "74ec7a38",
   "metadata": {},
   "source": [
    "Declarando função de consulta"
   ]
  },
  {
   "cell_type": "code",
   "execution_count": null,
   "id": "79a1851f",
   "metadata": {},
   "outputs": [],
   "source": [
    "def buscar_mysql(query, limit):\n",
    "    sql = \"\"\"\n",
    "    SELECT doc_id, texto, MATCH(texto) AGAINST(%s IN NATURAL LANGUAGE MODE) AS score\n",
    "    FROM documentos\n",
    "    WHERE MATCH(texto) AGAINST(%s IN NATURAL LANGUAGE MODE)\n",
    "    ORDER BY score DESC\n",
    "    LIMIT %s;\n",
    "    \"\"\"\n",
    "    cursor.execute(sql, (query, query, limit))\n",
    "    resultados = cursor.fetchall()\n",
    "\n",
    "    return [doc_id for doc_id, _, _ in resultados]  # índice 0-based"
   ]
  },
  {
   "cell_type": "markdown",
   "id": "f3cc3b29",
   "metadata": {},
   "source": [
    "Realizando consultas"
   ]
  },
  {
   "cell_type": "markdown",
   "id": "8b0bab06",
   "metadata": {},
   "source": [
    "Teste"
   ]
  },
  {
   "cell_type": "code",
   "execution_count": null,
   "id": "a88738bb",
   "metadata": {},
   "outputs": [],
   "source": [
    "consulta = \"violence pandemic pandemic impacted violence society including violent crimes\"\n",
    "ranking = buscar_mysql(consulta, 10)\n",
    "\n",
    "print(\"Documentos ranqueados pelo MySQL Full-Text Search:\")\n",
    "length = len(ranking)\n",
    "for i, doc_id in enumerate(ranking):\n",
    "    print(f\"{i+1}/{length} - {doc_id}\")"
   ]
  }
 ],
 "metadata": {
  "kernelspec": {
   "display_name": "projeto_ri",
   "language": "python",
   "name": "python3"
  },
  "language_info": {
   "codemirror_mode": {
    "name": "ipython",
    "version": 3
   },
   "file_extension": ".py",
   "mimetype": "text/x-python",
   "name": "python",
   "nbconvert_exporter": "python",
   "pygments_lexer": "ipython3",
   "version": "3.13.5"
  }
 },
 "nbformat": 4,
 "nbformat_minor": 5
}
